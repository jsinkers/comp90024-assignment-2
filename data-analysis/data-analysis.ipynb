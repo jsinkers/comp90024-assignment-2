{
 "cells": [
  {
   "cell_type": "code",
   "execution_count": 7,
   "id": "3581fbca-1c18-4180-9b58-3f05f255454d",
   "metadata": {
    "pycharm": {
     "name": "#%%\n"
    }
   },
   "outputs": [],
   "source": [
    "import itertools\n",
    "import json\n",
    "\n",
    "import pandas as pd\n",
    "import geopandas as gpd\n",
    "import ijson\n",
    "from vaderSentiment.vaderSentiment import SentimentIntensityAnalyzer"
   ]
  },
  {
   "cell_type": "code",
   "execution_count": null,
   "id": "7a8174a5-5029-423f-bf49-c6aa1641c013",
   "metadata": {
    "pycharm": {
     "name": "#%%\n"
    }
   },
   "outputs": [],
   "source": [
    "json.read("
   ]
  },
  {
   "cell_type": "code",
   "execution_count": 2,
   "id": "750a6e75-f561-4757-a7ca-0214caec4d59",
   "metadata": {
    "pycharm": {
     "name": "#%%\n"
    }
   },
   "outputs": [],
   "source": [
    "def get_tweet_coordinates(tweet):\n",
    "    \"\"\"\n",
    "    Given a tweet extract the tweet coordinates\n",
    "    :param tweet: tweet in JSON format\n",
    "    :return: dictionary of latitude, longitude\n",
    "    \"\"\"\n",
    "    hasCoordinates = tweet['doc']['coordinates']\n",
    "    if hasCoordinates:\n",
    "        return {\"longitude\": hasCoordinates['coordinates'][0], \"latitude\": hasCoordinates['coordinates'][1]}\n"
   ]
  },
  {
   "cell_type": "code",
   "execution_count": 3,
   "id": "e416b9d3-a4c8-4807-adcf-4b49af8671e6",
   "metadata": {
    "pycharm": {
     "name": "#%%\n"
    }
   },
   "outputs": [
    {
     "data": {
      "text/plain": [
       "'C:\\\\Users\\\\sincl\\\\Documents\\\\comp90024-assignment-2\\\\data analysis'"
      ]
     },
     "execution_count": 3,
     "metadata": {},
     "output_type": "execute_result"
    }
   ],
   "source": [
    "import os\n",
    "os.getcwd()"
   ]
  },
  {
   "cell_type": "code",
   "execution_count": 4,
   "id": "03de47eb-966b-427e-af9f-81563dc7342d",
   "metadata": {
    "pycharm": {
     "name": "#%%\n"
    }
   },
   "outputs": [
    {
     "ename": "SyntaxError",
     "evalue": "unexpected EOF while parsing (991827275.py, line 2)",
     "output_type": "error",
     "traceback": [
      "\u001b[1;36m  Input \u001b[1;32mIn [4]\u001b[1;36m\u001b[0m\n\u001b[1;33m    # check if tweet has location data\u001b[0m\n\u001b[1;37m                                      ^\u001b[0m\n\u001b[1;31mSyntaxError\u001b[0m\u001b[1;31m:\u001b[0m unexpected EOF while parsing\n"
     ]
    }
   ],
   "source": [
    "def analyse_tweet(tweet):\n",
    "    # check if tweet has location data"
   ]
  },
  {
   "cell_type": "code",
   "execution_count": 33,
   "id": "b3f50ad8-e4f6-448f-9243-efc618d60a3e",
   "metadata": {},
   "outputs": [],
   "source": [
    "analyser = SentimentIntensityAnalyzer()\n",
    "pd.options.display.max_colwidth = 250"
   ]
  },
  {
   "cell_type": "code",
   "execution_count": 34,
   "id": "e2d695a6-caaa-4243-b4b4-914359915866",
   "metadata": {
    "pycharm": {
     "name": "#%%\n"
    }
   },
   "outputs": [],
   "source": [
    "tweet_file = \"../data/twitter-melb.json\"\n",
    "tweet_sentiments = []\n",
    "with open(tweet_file, encoding='utf-8') as f:\n",
    "    rows = ijson.items(f, 'rows.item')\n",
    "    #grid_counter_2 = {grid_id: Counter() for grid_id in grid.keys()}\n",
    "    #analyse_tweets(grid, grid_counter_2, languages, rows)\n",
    "    #for grid_id in grid_counter.keys():\n",
    "    #    print(f\"{grid_id}: {grid_counter_2[grid_id].most_common(5)}\")\n",
    "    \n",
    "\n",
    "    for tweet in itertools.islice(rows, 1000):\n",
    "        #print(get_tweet_coordinates(tweet))\n",
    "        sentence = tweet['doc']['text']\n",
    "        sentiment = analyser.polarity_scores(sentence)\n",
    "        #print(\"{:-<65} {}\".format(sentence, str(sentiment)))\n",
    "        sentiment['text'] = sentence\n",
    "        tweet_sentiments.append(sentiment)\n",
    "\n",
    "#print(tweet_sentiments)\n",
    "df = pd.DataFrame(tweet_sentiments)"
   ]
  },
  {
   "cell_type": "code",
   "execution_count": 35,
   "id": "7ab3a01c-a8b1-4443-91c3-b2769e0c7611",
   "metadata": {
    "pycharm": {
     "name": "#%%\n"
    }
   },
   "outputs": [
    {
     "data": {
      "text/html": [
       "<div>\n",
       "<style scoped>\n",
       "    .dataframe tbody tr th:only-of-type {\n",
       "        vertical-align: middle;\n",
       "    }\n",
       "\n",
       "    .dataframe tbody tr th {\n",
       "        vertical-align: top;\n",
       "    }\n",
       "\n",
       "    .dataframe thead th {\n",
       "        text-align: right;\n",
       "    }\n",
       "</style>\n",
       "<table border=\"1\" class=\"dataframe\">\n",
       "  <thead>\n",
       "    <tr style=\"text-align: right;\">\n",
       "      <th></th>\n",
       "      <th>neg</th>\n",
       "      <th>neu</th>\n",
       "      <th>pos</th>\n",
       "      <th>compound</th>\n",
       "      <th>text</th>\n",
       "    </tr>\n",
       "  </thead>\n",
       "  <tbody>\n",
       "    <tr>\n",
       "      <th>571</th>\n",
       "      <td>0.000</td>\n",
       "      <td>0.506</td>\n",
       "      <td>0.494</td>\n",
       "      <td>0.9485</td>\n",
       "      <td>売店で買ったお昼ご飯🍴🍝\\n美味しかった💙😘❤️💕✨😍 http://t.co/Fw2n49ZlvO</td>\n",
       "    </tr>\n",
       "    <tr>\n",
       "      <th>883</th>\n",
       "      <td>0.000</td>\n",
       "      <td>0.524</td>\n",
       "      <td>0.476</td>\n",
       "      <td>0.9520</td>\n",
       "      <td>oh yes, I forgot to mention, I'VE FINALLY GOT A TOP LOCKER! FUVK THE BOTTOM! TOP LOCKER ALL TO MYSELF! 😌😌😌😌</td>\n",
       "    </tr>\n",
       "    <tr>\n",
       "      <th>505</th>\n",
       "      <td>0.000</td>\n",
       "      <td>0.507</td>\n",
       "      <td>0.493</td>\n",
       "      <td>0.9552</td>\n",
       "      <td>Wishing u a very Happy Birthday @degsy hope it's a good one with plenty of 🍷🍰🍺...😘 xoxo</td>\n",
       "    </tr>\n",
       "    <tr>\n",
       "      <th>460</th>\n",
       "      <td>0.000</td>\n",
       "      <td>0.382</td>\n",
       "      <td>0.618</td>\n",
       "      <td>0.9694</td>\n",
       "      <td>@woohyungs calm down guuuuuuurl 😄😄😄😄</td>\n",
       "    </tr>\n",
       "    <tr>\n",
       "      <th>484</th>\n",
       "      <td>0.000</td>\n",
       "      <td>0.525</td>\n",
       "      <td>0.475</td>\n",
       "      <td>0.9717</td>\n",
       "      <td>i just started watching Pushing Daisies and oh mY GOD NED IS SO CUTE LEE PACE IS SO CUTE THIS WHOLE SHOW IS SO CUTE AAAAAHHHHH</td>\n",
       "    </tr>\n",
       "    <tr>\n",
       "      <th>646</th>\n",
       "      <td>0.000</td>\n",
       "      <td>0.444</td>\n",
       "      <td>0.556</td>\n",
       "      <td>0.9744</td>\n",
       "      <td>@MaddieJoy_ 😘💘😘💘😘💘😘</td>\n",
       "    </tr>\n",
       "    <tr>\n",
       "      <th>955</th>\n",
       "      <td>0.000</td>\n",
       "      <td>0.524</td>\n",
       "      <td>0.476</td>\n",
       "      <td>0.9764</td>\n",
       "      <td>@zaynmalik I didn't think I could gain more respect for you zayn. Everything you do is so selfless. You're a beautiful human. 😚😚💖</td>\n",
       "    </tr>\n",
       "    <tr>\n",
       "      <th>178</th>\n",
       "      <td>0.000</td>\n",
       "      <td>0.427</td>\n",
       "      <td>0.573</td>\n",
       "      <td>0.9779</td>\n",
       "      <td>Happppy 18th you sexy thing @rhanscatchard.. ENJOY🍸🍸🍸🍸💜💜💜💜 http://t.co/FsgNur4IWl</td>\n",
       "    </tr>\n",
       "    <tr>\n",
       "      <th>926</th>\n",
       "      <td>0.000</td>\n",
       "      <td>0.299</td>\n",
       "      <td>0.701</td>\n",
       "      <td>0.9814</td>\n",
       "      <td>@the1975 COME BACK TO MELBOURNE 💕💕💕💕💕💕</td>\n",
       "    </tr>\n",
       "    <tr>\n",
       "      <th>361</th>\n",
       "      <td>0.216</td>\n",
       "      <td>0.351</td>\n",
       "      <td>0.433</td>\n",
       "      <td>0.9859</td>\n",
       "      <td>@Miff6Lorraine 😂😂😂😂😂😂😂😂😂😂😂😂</td>\n",
       "    </tr>\n",
       "  </tbody>\n",
       "</table>\n",
       "</div>"
      ],
      "text/plain": [
       "       neg    neu    pos  compound  \\\n",
       "571  0.000  0.506  0.494    0.9485   \n",
       "883  0.000  0.524  0.476    0.9520   \n",
       "505  0.000  0.507  0.493    0.9552   \n",
       "460  0.000  0.382  0.618    0.9694   \n",
       "484  0.000  0.525  0.475    0.9717   \n",
       "646  0.000  0.444  0.556    0.9744   \n",
       "955  0.000  0.524  0.476    0.9764   \n",
       "178  0.000  0.427  0.573    0.9779   \n",
       "926  0.000  0.299  0.701    0.9814   \n",
       "361  0.216  0.351  0.433    0.9859   \n",
       "\n",
       "                                                                                                                                  text  \n",
       "571                                                                                 売店で買ったお昼ご飯🍴🍝\\n美味しかった💙😘❤️💕✨😍 http://t.co/Fw2n49ZlvO  \n",
       "883                        oh yes, I forgot to mention, I'VE FINALLY GOT A TOP LOCKER! FUVK THE BOTTOM! TOP LOCKER ALL TO MYSELF! 😌😌😌😌  \n",
       "505                                            Wishing u a very Happy Birthday @degsy hope it's a good one with plenty of 🍷🍰🍺...😘 xoxo  \n",
       "460                                                                                               @woohyungs calm down guuuuuuurl 😄😄😄😄  \n",
       "484     i just started watching Pushing Daisies and oh mY GOD NED IS SO CUTE LEE PACE IS SO CUTE THIS WHOLE SHOW IS SO CUTE AAAAAHHHHH  \n",
       "646                                                                                                                @MaddieJoy_ 😘💘😘💘😘💘😘  \n",
       "955  @zaynmalik I didn't think I could gain more respect for you zayn. Everything you do is so selfless. You're a beautiful human. 😚😚💖  \n",
       "178                                                  Happppy 18th you sexy thing @rhanscatchard.. ENJOY🍸🍸🍸🍸💜💜💜💜 http://t.co/FsgNur4IWl  \n",
       "926                                                                                             @the1975 COME BACK TO MELBOURNE 💕💕💕💕💕💕  \n",
       "361                                                                                                        @Miff6Lorraine 😂😂😂😂😂😂😂😂😂😂😂😂  "
      ]
     },
     "execution_count": 35,
     "metadata": {},
     "output_type": "execute_result"
    }
   ],
   "source": [
    "df.sort_values(by='compound').tail(10)"
   ]
  },
  {
   "cell_type": "code",
   "execution_count": 36,
   "id": "bd72fcab-886a-426e-9af0-b38052afe7b8",
   "metadata": {},
   "outputs": [
    {
     "data": {
      "text/html": [
       "<div>\n",
       "<style scoped>\n",
       "    .dataframe tbody tr th:only-of-type {\n",
       "        vertical-align: middle;\n",
       "    }\n",
       "\n",
       "    .dataframe tbody tr th {\n",
       "        vertical-align: top;\n",
       "    }\n",
       "\n",
       "    .dataframe thead th {\n",
       "        text-align: right;\n",
       "    }\n",
       "</style>\n",
       "<table border=\"1\" class=\"dataframe\">\n",
       "  <thead>\n",
       "    <tr style=\"text-align: right;\">\n",
       "      <th></th>\n",
       "      <th>neg</th>\n",
       "      <th>neu</th>\n",
       "      <th>pos</th>\n",
       "      <th>compound</th>\n",
       "      <th>text</th>\n",
       "    </tr>\n",
       "  </thead>\n",
       "  <tbody>\n",
       "    <tr>\n",
       "      <th>320</th>\n",
       "      <td>0.420</td>\n",
       "      <td>0.495</td>\n",
       "      <td>0.085</td>\n",
       "      <td>-0.9217</td>\n",
       "      <td>Terrific qn to @jeffkennett about prison system as the 'death star' (in response to Kennett's axis of evil re drugs, alcohol &amp;amp; depression).</td>\n",
       "    </tr>\n",
       "    <tr>\n",
       "      <th>869</th>\n",
       "      <td>0.742</td>\n",
       "      <td>0.258</td>\n",
       "      <td>0.000</td>\n",
       "      <td>-0.9095</td>\n",
       "      <td>@Nathalielouise @melcomber @NAB Bloody hell. That's terrible!!!</td>\n",
       "    </tr>\n",
       "    <tr>\n",
       "      <th>866</th>\n",
       "      <td>0.534</td>\n",
       "      <td>0.466</td>\n",
       "      <td>0.000</td>\n",
       "      <td>-0.8832</td>\n",
       "      <td>Tax returns can suck my fucking dick. Way to ruin my day.</td>\n",
       "    </tr>\n",
       "    <tr>\n",
       "      <th>383</th>\n",
       "      <td>0.366</td>\n",
       "      <td>0.561</td>\n",
       "      <td>0.074</td>\n",
       "      <td>-0.8740</td>\n",
       "      <td>Heey Ashton Irwin\\n@Ashton5SOS\\n\\nI wrote this for you if you have a second x\\n\\n💥💥 PLEASE READ 💥💥\\n\\nhttps://t.co/qClUf8YcRR\\n\\n🎶💥🎶💥🎶</td>\n",
       "    </tr>\n",
       "    <tr>\n",
       "      <th>784</th>\n",
       "      <td>0.327</td>\n",
       "      <td>0.673</td>\n",
       "      <td>0.000</td>\n",
       "      <td>-0.8074</td>\n",
       "      <td>@Dylan_French182 he randomly started calling my boss a faggot. He came back and we all scared them</td>\n",
       "    </tr>\n",
       "    <tr>\n",
       "      <th>990</th>\n",
       "      <td>0.774</td>\n",
       "      <td>0.226</td>\n",
       "      <td>0.000</td>\n",
       "      <td>-0.7824</td>\n",
       "      <td>@PaulinaMehrara MISS YOU BITCH</td>\n",
       "    </tr>\n",
       "    <tr>\n",
       "      <th>462</th>\n",
       "      <td>0.266</td>\n",
       "      <td>0.734</td>\n",
       "      <td>0.000</td>\n",
       "      <td>-0.7783</td>\n",
       "      <td>Study hard 😰😖😩🙌✊👓📝📑📊📗 #study #hard #uni #flinders #vicuni #asiangirl #tired #music #f4f… http://t.co/jT6INi0TMi</td>\n",
       "    </tr>\n",
       "    <tr>\n",
       "      <th>330</th>\n",
       "      <td>0.207</td>\n",
       "      <td>0.793</td>\n",
       "      <td>0.000</td>\n",
       "      <td>-0.7783</td>\n",
       "      <td>You sir, by far, will always be my biggest mistake. Not the career choice. You. That's a big thing to say. I don't need to be mind fucked.</td>\n",
       "    </tr>\n",
       "    <tr>\n",
       "      <th>877</th>\n",
       "      <td>0.565</td>\n",
       "      <td>0.435</td>\n",
       "      <td>0.000</td>\n",
       "      <td>-0.7783</td>\n",
       "      <td>@Psythor @dreadpiratemick Sorry I failed. He's such a cunt.</td>\n",
       "    </tr>\n",
       "    <tr>\n",
       "      <th>739</th>\n",
       "      <td>0.531</td>\n",
       "      <td>0.469</td>\n",
       "      <td>0.000</td>\n",
       "      <td>-0.7772</td>\n",
       "      <td>Keep losing my shit! Need a little assistant!</td>\n",
       "    </tr>\n",
       "  </tbody>\n",
       "</table>\n",
       "</div>"
      ],
      "text/plain": [
       "       neg    neu    pos  compound  \\\n",
       "320  0.420  0.495  0.085   -0.9217   \n",
       "869  0.742  0.258  0.000   -0.9095   \n",
       "866  0.534  0.466  0.000   -0.8832   \n",
       "383  0.366  0.561  0.074   -0.8740   \n",
       "784  0.327  0.673  0.000   -0.8074   \n",
       "990  0.774  0.226  0.000   -0.7824   \n",
       "462  0.266  0.734  0.000   -0.7783   \n",
       "330  0.207  0.793  0.000   -0.7783   \n",
       "877  0.565  0.435  0.000   -0.7783   \n",
       "739  0.531  0.469  0.000   -0.7772   \n",
       "\n",
       "                                                                                                                                                text  \n",
       "320  Terrific qn to @jeffkennett about prison system as the 'death star' (in response to Kennett's axis of evil re drugs, alcohol &amp; depression).  \n",
       "869                                                                                  @Nathalielouise @melcomber @NAB Bloody hell. That's terrible!!!  \n",
       "866                                                                                        Tax returns can suck my fucking dick. Way to ruin my day.  \n",
       "383           Heey Ashton Irwin\\n@Ashton5SOS\\n\\nI wrote this for you if you have a second x\\n\\n💥💥 PLEASE READ 💥💥\\n\\nhttps://t.co/qClUf8YcRR\\n\\n🎶💥🎶💥🎶  \n",
       "784                                               @Dylan_French182 he randomly started calling my boss a faggot. He came back and we all scared them  \n",
       "990                                                                                                                   @PaulinaMehrara MISS YOU BITCH  \n",
       "462                                  Study hard 😰😖😩🙌✊👓📝📑📊📗 #study #hard #uni #flinders #vicuni #asiangirl #tired #music #f4f… http://t.co/jT6INi0TMi  \n",
       "330       You sir, by far, will always be my biggest mistake. Not the career choice. You. That's a big thing to say. I don't need to be mind fucked.  \n",
       "877                                                                                      @Psythor @dreadpiratemick Sorry I failed. He's such a cunt.  \n",
       "739                                                                                                    Keep losing my shit! Need a little assistant!  "
      ]
     },
     "execution_count": 36,
     "metadata": {},
     "output_type": "execute_result"
    }
   ],
   "source": [
    "df.sort_values(by='compound').head(10)"
   ]
  }
 ],
 "metadata": {
  "kernelspec": {
   "display_name": "Python 3 (ipykernel)",
   "language": "python",
   "name": "python3"
  },
  "language_info": {
   "codemirror_mode": {
    "name": "ipython",
    "version": 3
   },
   "file_extension": ".py",
   "mimetype": "text/x-python",
   "name": "python",
   "nbconvert_exporter": "python",
   "pygments_lexer": "ipython3",
   "version": "3.8.13"
  }
 },
 "nbformat": 4,
 "nbformat_minor": 5
}
